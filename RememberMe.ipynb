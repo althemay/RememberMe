{
  "nbformat": 4,
  "nbformat_minor": 0,
  "metadata": {
    "colab": {
      "provenance": [],
      "include_colab_link": true
    },
    "kernelspec": {
      "name": "python3",
      "display_name": "Python 3"
    },
    "language_info": {
      "name": "python"
    }
  },
  "cells": [
    {
      "cell_type": "markdown",
      "metadata": {
        "id": "view-in-github",
        "colab_type": "text"
      },
      "source": [
        "<a href=\"https://colab.research.google.com/github/althemay/RememberMe/blob/main/RememberMe.ipynb\" target=\"_parent\"><img src=\"https://colab.research.google.com/assets/colab-badge.svg\" alt=\"Open In Colab\"/></a>"
      ]
    },
    {
      "cell_type": "code",
      "source": [
        "import os\n",
        "import requests\n",
        "import time\n",
        "import sqlite3\n",
        "from pprint import pprint\n",
        "import glob\n",
        "\n",
        "# Set the environment variables\n",
        "os.environ['API_KEY'] = 'tlk_07ESRRT1E0EHV722DYSH80TQ7S9D'\n",
        "os.environ['API_URL'] = 'https://api.twelvelabs.io/v1.2'"
      ],
      "metadata": {
        "id": "o4EB3UeXVOyw"
      },
      "execution_count": null,
      "outputs": []
    },
    {
      "cell_type": "code",
      "source": [
        "# Retrieve API URL and API Key from environment variables\n",
        "API_URL = os.getenv(\"API_URL\")\n",
        "assert API_URL  # Assert to ensure that API_URL is not None\n",
        "\n",
        "API_KEY = os.getenv(\"API_KEY\")\n",
        "assert API_KEY  # Assert to ensure that API_KEY is not None\n",
        "\n",
        "# Construct the URL for accessing the indexes endpoint of the API\n",
        "INDEXES_URL = f\"{API_URL}/indexes\"\n",
        "\n",
        "# Specify a unique name for the index to be created\n",
        "INDEX_NAME = \"Test3\"\n",
        "\n",
        "# Set up the headers for the HTTP request, including the API key for authorization\n",
        "headers = {\"x-api-key\": API_KEY}\n",
        "\n",
        "# Define the data payload for creating the index, which includes details about the engines and options used\n",
        "data = {\n",
        "  \"engines\": [\n",
        "    {\n",
        "      \"engine_name\": \"marengo2.6\",  # Specify the first engine name\n",
        "      \"engine_options\": [\"visual\", \"conversation\", \"text_in_video\", \"logo\"]  # Options for the first engine\n",
        "    },\n",
        "    {\n",
        "      \"engine_name\": \"pegasus1\",  # Specify the second engine name\n",
        "      \"engine_options\": [\"visual\", \"conversation\"]  # Options for the second engine\n",
        "    }\n",
        "  ],\n",
        "  \"index_name\": INDEX_NAME,  # Name of the index\n",
        "  \"addons\": [\"thumbnail\"]  # Additional features (e.g., thumbnail generation)\n",
        "}\n",
        "\n",
        "# Send a POST request to the API to create an index with the specified configuration\n",
        "response = requests.post(INDEXES_URL, headers=headers, json=data)\n",
        "\n",
        "# Extract the index ID from the response, will be None if not successful\n",
        "INDEX_ID = response.json().get('_id')\n",
        "\n",
        "# Print the status code of the response to check if the request was successful\n",
        "print(f'Status code: {response.status_code}')\n",
        "\n",
        "# Pretty print the JSON response to see detailed information or error messages\n",
        "pprint(response.json())\n"
      ],
      "metadata": {
        "id": "OFMx_J_6W9so",
        "colab": {
          "base_uri": "https://localhost:8080/"
        },
        "outputId": "3896e279-2606-4562-bc6c-26426cff0218"
      },
      "execution_count": null,
      "outputs": [
        {
          "output_type": "stream",
          "name": "stdout",
          "text": [
            "Status code: 201\n",
            "{'_id': '6634615db38af0b649c4651f'}\n"
          ]
        }
      ]
    },
    {
      "cell_type": "code",
      "source": [
        "def get_db_connection():\n",
        "    \"\"\"Establish and return a connection to the SQLite database.\"\"\"\n",
        "    return sqlite3.connect('video_summaries.db')  # Connects to SQLite database file 'video_summaries.db'\n",
        "\n",
        "def create_summaries_table():\n",
        "    \"\"\"Create a table in the SQLite database if it doesn't already exist.\"\"\"\n",
        "    with get_db_connection() as conn:  # Use the database connection\n",
        "        cursor = conn.cursor()  # Create a cursor object using the connection\n",
        "        # SQL statement to create a table if it doesn't exist\n",
        "        cursor.execute('''\n",
        "        CREATE TABLE IF NOT EXISTS summaries (\n",
        "            video_id TEXT PRIMARY KEY,  # Unique identifier for each video\n",
        "            summary TEXT,               # Textual summary of the video\n",
        "            processing_date TIMESTAMP DEFAULT CURRENT_TIMESTAMP  # Automatically stores the current timestamp\n",
        "        )\n",
        "        ''')\n",
        "        conn.commit()  # Commit the changes to the database\n",
        "\n",
        "create_summaries_table()  # Call the function to ensure the table is created\n",
        "\n",
        "def insert_or_replace_summary_with_retry(video_id, summary, attempts=3):\n",
        "    \"\"\"\n",
        "    Attempt to insert or replace a summary in the database with a specified number of retry attempts.\n",
        "    \"\"\"\n",
        "    for attempt in range(attempts):  # Loop through the specified number of attempts\n",
        "        try:\n",
        "            with get_db_connection() as conn:  # Establish a database connection\n",
        "                cursor = conn.cursor()  # Create a cursor object\n",
        "                # SQL statement to insert a new record or update an existing one based on the video_id\n",
        "                cursor.execute('''\n",
        "                INSERT INTO summaries (video_id, summary) VALUES (?, ?)\n",
        "                ON CONFLICT(video_id) DO UPDATE SET summary=excluded.summary;\n",
        "                ''', (video_id, summary))\n",
        "                conn.commit()  # Commit the changes to the database\n",
        "                print(f\"Summary for Video ID: {video_id} saved to the database.\")\n",
        "                return True  # Return True to indicate success\n",
        "        except sqlite3.OperationalError as e:  # Catch and handle specific SQLite operational errors\n",
        "            print(f\"Attempt {attempt+1}: Database operation failed with error: {e}\")  # Print the error and attempt number\n",
        "            time.sleep(0.5)  # Wait for half a second before retrying\n",
        "\n",
        "    return False  # Return False if all attempts fail"
      ],
      "metadata": {
        "id": "fIpcm2FAiipr"
      },
      "execution_count": null,
      "outputs": []
    },
    {
      "cell_type": "code",
      "source": [
        "# Function to submit a video URL for processing by an external provider\n",
        "def submit_video_for_processing(video_url):\n",
        "    TASKS_URL = f\"{API_URL}/tasks/external-provider\"  # Define the URL for submitting tasks\n",
        "    data = {\"index_id\": INDEX_ID, \"url\": video_url}  # Set up the data payload with index ID and video URL\n",
        "    response = requests.post(TASKS_URL, headers=headers, json=data)  # Make the POST request\n",
        "    if response.status_code == 201:\n",
        "        task_id = response.json().get(\"_id\")  # Retrieve the task ID from the response\n",
        "        print(f\"Task submitted successfully. Task ID: {task_id}\")\n",
        "        return task_id  # Return the task ID\n",
        "    else:\n",
        "        print(f\"Failed to submit task: {response.status_code}\")  # Print failure message\n",
        "        pprint(response.json())\n",
        "        return None  # Return None if submission fails\n",
        "\n",
        "# Function to wait for the completion of the task\n",
        "def wait_for_task_completion(task_id):\n",
        "    TASK_STATUS_URL = f\"{API_URL}/tasks/{task_id}\"  # Define the URL to check task status\n",
        "    while True:\n",
        "        response = requests.get(TASK_STATUS_URL, headers=headers)  # Poll the status of the task\n",
        "        if response.status_code == 200:\n",
        "            status = response.json().get(\"status\")  # Get the status from the response\n",
        "            if status == \"ready\":\n",
        "                video_id = response.json().get('video_id')  # Get the video ID once the task is ready\n",
        "                print(f\"Task completed. Video ID: {video_id}\")\n",
        "                return video_id  # Return the video ID\n",
        "            elif status == \"failed\":\n",
        "                print(\"Task failed.\")  # Print failure message\n",
        "                return None  # Return None if the task failed\n",
        "        else:\n",
        "            print(f\"Failed to get task status: {response.status_code}\")  # Print error if status check fails\n",
        "            return None\n",
        "        time.sleep(10)  # Sleep for 10 seconds before polling again\n",
        "\n",
        "\n",
        "def get_video_summary(video_id):\n",
        "    GENERATE_URL = f\"{API_URL}/generate\"  # Define the URL to generate the summary\n",
        "    data = {\"video_id\": video_id, \"prompt\": \"Make a summary\"}  # Set up the data payload\n",
        "    response = requests.post(GENERATE_URL, headers=headers, json=data)  # Make the POST request\n",
        "    if response.status_code == 200:\n",
        "        summary = response.json().get('data')  # Get the summary data from the response\n",
        "        print(\"Video summary generated successfully.\")\n",
        "        return summary  # Return the summary\n",
        "    else:\n",
        "        print(f\"Failed to generate summary: {response.status_code}\")  # Print failure message\n",
        "        pprint(response.json())\n",
        "        return None  # Return None if summary generation fails\n",
        "\n",
        "# Main function to run the program\n",
        "def main():\n",
        "    video_url = input(\"Enter the video URL: \")  # Prompt user to enter the video URL\n",
        "    task_id = submit_video_for_processing(video_url)  # Submit the video for processing\n",
        "    if task_id:\n",
        "        video_id = wait_for_task_completion(task_id)  # Wait for the task to complete\n",
        "        if video_id:\n",
        "            summary = get_video_summary(video_id)  # Get the summary for the video\n",
        "            if summary:\n",
        "                if not insert_or_replace_summary_with_retry(video_id, summary):\n",
        "                    print(\"Failed to save summary to the database.\")  # Try to save the summary to the database and print a message if it fails\n",
        "\n",
        "# Function to retrieve and print all summaries from the database\n",
        "def get_summaries():\n",
        "    try:\n",
        "        with get_db_connection() as conn:  # Establish database connection\n",
        "            cursor = conn.cursor()  # Create a cursor object\n",
        "            cursor.execute('SELECT * FROM summaries')  # Execute a query to retrieve all summaries\n",
        "            rows = cursor.fetchall()  # Fetch all rows of the query result\n",
        "            if rows:\n",
        "                for row in rows:\n",
        "                    print(row)  # Print each row\n",
        "            else:\n",
        "                print(\"No summaries found in the database.\")  # Print if no summaries found\n",
        "    except sqlite3.Error as e:\n",
        "        print(f\"An error occurred when retrieving summaries: {e}\")  # Print any errors encountered\n",
        "\n",
        "if __name__ == \"__main__\":\n",
        "    main()  # Execute the main function if the script is run as a standalone program"
      ],
      "metadata": {
        "id": "MAVEfgt3pdrR",
        "colab": {
          "base_uri": "https://localhost:8080/"
        },
        "outputId": "87faa1a5-b809-4078-8198-194e46636388"
      },
      "execution_count": null,
      "outputs": [
        {
          "output_type": "stream",
          "name": "stdout",
          "text": [
            "Enter the video URL: https://www.youtube.com/watch?v=YKsQJVzr3a8&ab_channel=FreeSubsOutTheAss\n",
            "Task submitted successfully. Task ID: 66346339b38af0b649c46529\n",
            "Task completed. Video ID: 66346346d1cd5a287c957b64\n",
            "Video summary generated successfully.\n",
            "Summary for Video ID: 66346346d1cd5a287c957b64 saved to the database.\n"
          ]
        }
      ]
    },
    {
      "cell_type": "code",
      "source": [
        "get_summaries()\n"
      ],
      "metadata": {
        "colab": {
          "base_uri": "https://localhost:8080/"
        },
        "id": "8DVMh0uuvcqF",
        "outputId": "a17527b3-5588-4a71-9292-6e015a812f87"
      },
      "execution_count": null,
      "outputs": [
        {
          "output_type": "stream",
          "name": "stdout",
          "text": [
            "('6634619ed1cd5a287c957b63', 'The video presents a straightforward countdown sequence, elegantly designed with a classic aesthetic. It begins with the number 5 and methodically counts down to 1. Each number is prominently displayed at the center of the screen, encircled by a circular border that features smaller, evenly spaced numbers ranging from 1 to 60, reminiscent of a clock face. The background is kept to a simple, uniform gray, ensuring that the focus remains on the countdown itself. The use of black for the numbers against the gray backdrop offers a stark, visually appealing contrast. This type of sequence is typically utilized in media productions to signify a transition or the impending start of an event, providing viewers with a clear, visual cue that something is about to commence.', '2024-05-03 04:05:21')\n",
            "('66346346d1cd5a287c957b64', \"The video presents a poignant scene set in an urban residential area, capturing a moment where an individual, dressed in a green shirt and khaki pants, is found lying on the ground. This setting is characterized by a street flanked by buildings, one notable for its yellow facade and green door, and another with a red facade and white door, alongside parked cars and a pile of trash on the sidewalk. Throughout the brief duration of the video, the individual appears to be in a state of distress or possibly injury, as evidenced by their movements or writhing on the ground, although they remain largely in the same position. The scene remains static with no significant alterations in the backdrop or lighting, encapsulating a single, albeit unclear, narrative moment of someone possibly in need of assistance. The only audio contribution comes in the form of closed captioning provided by MUHSEN, which does not offer further context to the visual imagery. This restrained snapshot offers a glimpse into a potentially distressing situation, leaving the viewer with questions about the circumstances leading up to this moment and the individual's well-being.\", '2024-05-03 04:12:32')\n"
          ]
        }
      ]
    }
  ]
}